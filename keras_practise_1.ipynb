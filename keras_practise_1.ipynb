{
  "nbformat": 4,
  "nbformat_minor": 0,
  "metadata": {
    "colab": {
      "name": "keras practise_1.ipynb",
      "version": "0.3.2",
      "provenance": []
    },
    "kernelspec": {
      "name": "python3",
      "display_name": "Python 3"
    }
  },
  "cells": [
    {
      "cell_type": "markdown",
      "metadata": {
        "id": "view-in-github",
        "colab_type": "text"
      },
      "source": [
        "[View in Colaboratory](https://colab.research.google.com/github/imgurnoor/keras_practice_notebooks/blob/master/keras_practise_1.ipynb)"
      ]
    },
    {
      "metadata": {
        "id": "myPOVCcMdSJz",
        "colab_type": "code",
        "colab": {
          "base_uri": "https://localhost:8080/",
          "height": 34
        },
        "outputId": "15122255-565f-45f1-e3b4-0cfd79e9859b"
      },
      "cell_type": "code",
      "source": [
        "import keras"
      ],
      "execution_count": 3,
      "outputs": [
        {
          "output_type": "stream",
          "text": [
            "Using TensorFlow backend.\n"
          ],
          "name": "stderr"
        }
      ]
    },
    {
      "metadata": {
        "id": "nUYgPxModoNA",
        "colab_type": "code",
        "colab": {}
      },
      "cell_type": "code",
      "source": [
        "from keras.datasets import mnist"
      ],
      "execution_count": 0,
      "outputs": []
    },
    {
      "metadata": {
        "id": "q9h1MODsd5H9",
        "colab_type": "code",
        "colab": {
          "base_uri": "https://localhost:8080/",
          "height": 52
        },
        "outputId": "053ee2e7-ce70-46f8-b122-ad05dadb2781"
      },
      "cell_type": "code",
      "source": [
        "(train_images, train_labels), (test_images, test_labels)=mnist.load_data()"
      ],
      "execution_count": 5,
      "outputs": [
        {
          "output_type": "stream",
          "text": [
            "Downloading data from https://s3.amazonaws.com/img-datasets/mnist.npz\n",
            "11493376/11490434 [==============================] - 3s 0us/step\n"
          ],
          "name": "stdout"
        }
      ]
    },
    {
      "metadata": {
        "id": "9jJ1fVkJfQq3",
        "colab_type": "code",
        "colab": {}
      },
      "cell_type": "code",
      "source": [
        "from keras import models\n",
        "from keras import layers"
      ],
      "execution_count": 0,
      "outputs": []
    },
    {
      "metadata": {
        "id": "UeFNNXJMgAgt",
        "colab_type": "code",
        "colab": {}
      },
      "cell_type": "code",
      "source": [
        "model=models.Sequential()\n",
        "model.add(layers.Dense(500, activation=\"relu\", input_shape=((28*28),)))\n",
        "model.add(layers.Dense(10, activation='softmax'))"
      ],
      "execution_count": 0,
      "outputs": []
    },
    {
      "metadata": {
        "id": "cr9uAA9Fg_AX",
        "colab_type": "code",
        "colab": {}
      },
      "cell_type": "code",
      "source": [
        "model.compile(optimizer='rmsprop', loss='categorical_crossentropy', metrics=['accuracy'])"
      ],
      "execution_count": 0,
      "outputs": []
    },
    {
      "metadata": {
        "id": "5JuDGGrAiQH4",
        "colab_type": "code",
        "colab": {
          "base_uri": "https://localhost:8080/",
          "height": 34
        },
        "outputId": "272dc54e-12fd-4a2d-f9dd-acf6e9506f6c"
      },
      "cell_type": "code",
      "source": [
        "#shape of data\n",
        "train_images.shape\n"
      ],
      "execution_count": 9,
      "outputs": [
        {
          "output_type": "execute_result",
          "data": {
            "text/plain": [
              "(60000, 28, 28)"
            ]
          },
          "metadata": {
            "tags": []
          },
          "execution_count": 9
        }
      ]
    },
    {
      "metadata": {
        "id": "ZAKZk2iw2-oO",
        "colab_type": "text"
      },
      "cell_type": "markdown",
      "source": [
        " flatten 28*28 images to a 784 vector for each image\n"
      ]
    },
    {
      "metadata": {
        "id": "1qo4alF3luph",
        "colab_type": "code",
        "colab": {}
      },
      "cell_type": "code",
      "source": [
        "train_images = train_images.reshape((60000, 28 * 28))\n",
        "train_images= train_images.astype('float32')"
      ],
      "execution_count": 0,
      "outputs": []
    },
    {
      "metadata": {
        "id": "QxmdE5qM2Vgs",
        "colab_type": "code",
        "colab": {}
      },
      "cell_type": "code",
      "source": [
        "test_images= test_images.reshape(10000,28*28)\n",
        "test_images= test_images.astype('float32')"
      ],
      "execution_count": 0,
      "outputs": []
    },
    {
      "metadata": {
        "id": "N14jdAv33QE_",
        "colab_type": "code",
        "colab": {
          "base_uri": "https://localhost:8080/",
          "height": 34
        },
        "outputId": "d280eb1e-30ad-4b4e-d863-f0f54ad246f2"
      },
      "cell_type": "code",
      "source": [
        "train_images.shape\n",
        "test_images.shape"
      ],
      "execution_count": 19,
      "outputs": [
        {
          "output_type": "execute_result",
          "data": {
            "text/plain": [
              "(60000, 784)"
            ]
          },
          "metadata": {
            "tags": []
          },
          "execution_count": 19
        }
      ]
    },
    {
      "metadata": {
        "id": "7BqA4w5x23Og",
        "colab_type": "code",
        "colab": {}
      },
      "cell_type": "code",
      "source": [
        "#Normalising  input data from 0-255 to 0-1\n",
        "train_images= train_images / 255\n",
        "test_images= test_images / 255"
      ],
      "execution_count": 0,
      "outputs": []
    },
    {
      "metadata": {
        "id": "2hpIaFrp4dKS",
        "colab_type": "code",
        "colab": {}
      },
      "cell_type": "code",
      "source": [
        "#one hot encode label\n",
        "from keras.utils import to_categorical\n",
        "train_labels = to_categorical(train_labels)\n",
        "test_labels = to_categorical(test_labels)"
      ],
      "execution_count": 0,
      "outputs": []
    },
    {
      "metadata": {
        "id": "V0GQEgNS5Ybn",
        "colab_type": "code",
        "colab": {
          "base_uri": "https://localhost:8080/",
          "height": 406
        },
        "outputId": "954dc363-da0c-41cf-abe8-eb56029c8ba5"
      },
      "cell_type": "code",
      "source": [
        "model.fit(train_images, train_labels, epochs=10, batch_size= 128)"
      ],
      "execution_count": 29,
      "outputs": [
        {
          "output_type": "stream",
          "text": [
            "Epoch 1/10\n",
            "60000/60000 [==============================] - 4s 66us/step - loss: 0.0643 - acc: 0.9824\n",
            "Epoch 2/10\n",
            "60000/60000 [==============================] - 5s 76us/step - loss: 0.0631 - acc: 0.9823\n",
            "Epoch 3/10\n",
            "60000/60000 [==============================] - 4s 74us/step - loss: 0.0616 - acc: 0.9828\n",
            "Epoch 4/10\n",
            "60000/60000 [==============================] - 4s 73us/step - loss: 0.0600 - acc: 0.9833\n",
            "Epoch 5/10\n",
            "30464/60000 [==============>...............] - ETA: 2s - loss: 0.0572 - acc: 0.9843"
          ],
          "name": "stdout"
        },
        {
          "output_type": "stream",
          "text": [
            "60000/60000 [==============================] - 4s 73us/step - loss: 0.0586 - acc: 0.9838\n",
            "Epoch 6/10\n",
            "60000/60000 [==============================] - 4s 73us/step - loss: 0.0572 - acc: 0.9846\n",
            "Epoch 7/10\n",
            "60000/60000 [==============================] - 4s 72us/step - loss: 0.0562 - acc: 0.9847\n",
            "Epoch 8/10\n",
            "60000/60000 [==============================] - 4s 73us/step - loss: 0.0548 - acc: 0.9851\n",
            "Epoch 9/10\n",
            "42496/60000 [====================>.........] - ETA: 1s - loss: 0.0532 - acc: 0.9858"
          ],
          "name": "stdout"
        },
        {
          "output_type": "stream",
          "text": [
            "60000/60000 [==============================] - 4s 73us/step - loss: 0.0536 - acc: 0.9855\n",
            "Epoch 10/10\n",
            "60000/60000 [==============================] - 4s 74us/step - loss: 0.0525 - acc: 0.9859\n"
          ],
          "name": "stdout"
        },
        {
          "output_type": "execute_result",
          "data": {
            "text/plain": [
              "<keras.callbacks.History at 0x7f39ce2277f0>"
            ]
          },
          "metadata": {
            "tags": []
          },
          "execution_count": 29
        }
      ]
    },
    {
      "metadata": {
        "id": "6BZ4SCBB5wSy",
        "colab_type": "code",
        "colab": {
          "base_uri": "https://localhost:8080/",
          "height": 52
        },
        "outputId": "72e49d49-ca8d-4fd3-e396-882504112e44"
      },
      "cell_type": "code",
      "source": [
        "# evaluating model on test data\n",
        "\n",
        "test_loss, test_acc = model.evaluate(test_images, test_labels)\n",
        "print(\"result\", test_acc)"
      ],
      "execution_count": 32,
      "outputs": [
        {
          "output_type": "stream",
          "text": [
            "10000/10000 [==============================] - 0s 44us/step\n",
            "result 0.9759\n"
          ],
          "name": "stdout"
        }
      ]
    },
    {
      "metadata": {
        "id": "i79R_XQD8qCU",
        "colab_type": "code",
        "colab": {}
      },
      "cell_type": "code",
      "source": [
        ""
      ],
      "execution_count": 0,
      "outputs": []
    }
  ]
}